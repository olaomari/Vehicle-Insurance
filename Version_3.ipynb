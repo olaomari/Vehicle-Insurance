{
 "cells": [
  {
   "cell_type": "markdown",
   "metadata": {},
   "source": [
    "# Import Libraries"
   ]
  },
  {
   "cell_type": "code",
   "execution_count": 1,
   "metadata": {
    "_cell_guid": "b1076dfc-b9ad-4769-8c92-a6c4dae69d19",
    "_uuid": "8f2839f25d086af736a60e9eeb907d3b93b6e0e5",
    "execution": {
     "iopub.execute_input": "2022-03-20T16:39:50.761490Z",
     "iopub.status.busy": "2022-03-20T16:39:50.760376Z",
     "iopub.status.idle": "2022-03-20T16:39:50.780729Z",
     "shell.execute_reply": "2022-03-20T16:39:50.779738Z",
     "shell.execute_reply.started": "2022-03-20T16:39:50.761442Z"
    }
   },
   "outputs": [],
   "source": [
    "import numpy as np \n",
    "import pandas as pd \n",
    "import seaborn as sns\n",
    "import matplotlib.pyplot as plt\n",
    "from sklearn.model_selection import train_test_split\n",
    "from sklearn.naive_bayes import GaussianNB\n",
    "from sklearn.metrics import classification_report\n",
    "from sklearn.metrics import confusion_matrix\n",
    "from collections import Counter\n",
    "from sklearn.datasets import make_classification\n",
    "from matplotlib import pyplot\n",
    "from numpy import where\n",
    "from numpy import mean\n",
    "from sklearn import svm\n",
    "from sklearn.model_selection import cross_val_score\n",
    "from sklearn.model_selection import RepeatedStratifiedKFold\n",
    "from sklearn.tree import DecisionTreeClassifier\n",
    "from imblearn.under_sampling import RandomUnderSampler\n",
    "from imblearn.pipeline import Pipeline\n",
    "from imblearn.over_sampling import SMOTE\n",
    "from sklearn.ensemble import RandomForestClassifier\n"
   ]
  },
  {
   "cell_type": "markdown",
   "metadata": {},
   "source": [
    "# Read Data"
   ]
  },
  {
   "cell_type": "code",
   "execution_count": 5,
   "metadata": {
    "execution": {
     "iopub.execute_input": "2022-03-20T14:37:36.802869Z",
     "iopub.status.busy": "2022-03-20T14:37:36.802594Z",
     "iopub.status.idle": "2022-03-20T14:37:37.300399Z",
     "shell.execute_reply": "2022-03-20T14:37:37.299452Z",
     "shell.execute_reply.started": "2022-03-20T14:37:36.802834Z"
    }
   },
   "outputs": [],
   "source": [
    "\n",
    "sub = pd.read_csv('sub_example.csv')\n",
    "train = pd.read_csv('train_set.csv')\n",
    "test = pd.read_csv('test_set.csv')\n"
   ]
  },
  {
   "cell_type": "code",
   "execution_count": 4,
   "metadata": {
    "execution": {
     "iopub.execute_input": "2022-03-20T14:16:58.554902Z",
     "iopub.status.busy": "2022-03-20T14:16:58.554624Z",
     "iopub.status.idle": "2022-03-20T14:16:58.568302Z",
     "shell.execute_reply": "2022-03-20T14:16:58.567539Z",
     "shell.execute_reply.started": "2022-03-20T14:16:58.554873Z"
    }
   },
   "outputs": [],
   "source": []
  },
  {
   "cell_type": "markdown",
   "metadata": {},
   "source": [
    "# **Training Data**"
   ]
  },
  {
   "cell_type": "markdown",
   "metadata": {},
   "source": [
    "## EDA"
   ]
  },
  {
   "cell_type": "code",
   "execution_count": 6,
   "metadata": {
    "execution": {
     "iopub.execute_input": "2022-03-20T14:17:01.637134Z",
     "iopub.status.busy": "2022-03-20T14:17:01.636880Z",
     "iopub.status.idle": "2022-03-20T14:17:01.644277Z",
     "shell.execute_reply": "2022-03-20T14:17:01.643500Z",
     "shell.execute_reply.started": "2022-03-20T14:17:01.637106Z"
    }
   },
   "outputs": [
    {
     "data": {
      "text/plain": [
       "id                        int64\n",
       "Gender                   object\n",
       "Age                       int64\n",
       "Driving_License           int64\n",
       "Region_Code             float64\n",
       "Previously_Insured        int64\n",
       "Vehicle_Age              object\n",
       "Vehicle_Damage           object\n",
       "Annual_Premium          float64\n",
       "Policy_Sales_Channel    float64\n",
       "Vintage                   int64\n",
       "Response                  int64\n",
       "dtype: object"
      ]
     },
     "execution_count": 6,
     "metadata": {},
     "output_type": "execute_result"
    }
   ],
   "source": [
    "\"\"\"\n",
    "Checking Data Types\n",
    "\"\"\"\n",
    "train.dtypes"
   ]
  },
  {
   "cell_type": "code",
   "execution_count": 7,
   "metadata": {
    "execution": {
     "iopub.execute_input": "2022-03-20T14:17:03.826578Z",
     "iopub.status.busy": "2022-03-20T14:17:03.826244Z",
     "iopub.status.idle": "2022-03-20T14:17:04.096434Z",
     "shell.execute_reply": "2022-03-20T14:17:04.095597Z",
     "shell.execute_reply.started": "2022-03-20T14:17:03.826519Z"
    }
   },
   "outputs": [
    {
     "data": {
      "text/html": [
       "<div>\n",
       "<style scoped>\n",
       "    .dataframe tbody tr th:only-of-type {\n",
       "        vertical-align: middle;\n",
       "    }\n",
       "\n",
       "    .dataframe tbody tr th {\n",
       "        vertical-align: top;\n",
       "    }\n",
       "\n",
       "    .dataframe thead th {\n",
       "        text-align: right;\n",
       "    }\n",
       "</style>\n",
       "<table border=\"1\" class=\"dataframe\">\n",
       "  <thead>\n",
       "    <tr style=\"text-align: right;\">\n",
       "      <th></th>\n",
       "      <th>Gender</th>\n",
       "      <th>Vehicle_Age</th>\n",
       "      <th>Vehicle_Damage</th>\n",
       "    </tr>\n",
       "  </thead>\n",
       "  <tbody>\n",
       "    <tr>\n",
       "      <th>count</th>\n",
       "      <td>305723</td>\n",
       "      <td>305723</td>\n",
       "      <td>305723</td>\n",
       "    </tr>\n",
       "    <tr>\n",
       "      <th>unique</th>\n",
       "      <td>2</td>\n",
       "      <td>3</td>\n",
       "      <td>2</td>\n",
       "    </tr>\n",
       "    <tr>\n",
       "      <th>top</th>\n",
       "      <td>Male</td>\n",
       "      <td>1-2 Year</td>\n",
       "      <td>No</td>\n",
       "    </tr>\n",
       "    <tr>\n",
       "      <th>freq</th>\n",
       "      <td>164595</td>\n",
       "      <td>159977</td>\n",
       "      <td>158891</td>\n",
       "    </tr>\n",
       "  </tbody>\n",
       "</table>\n",
       "</div>"
      ],
      "text/plain": [
       "        Gender Vehicle_Age Vehicle_Damage\n",
       "count   305723      305723         305723\n",
       "unique       2           3              2\n",
       "top       Male    1-2 Year             No\n",
       "freq    164595      159977         158891"
      ]
     },
     "execution_count": 7,
     "metadata": {},
     "output_type": "execute_result"
    }
   ],
   "source": [
    "\"\"\"\n",
    "Data Describion, categorical features\n",
    "\"\"\"\n",
    "train.describe(include = 'object')"
   ]
  },
  {
   "cell_type": "code",
   "execution_count": 8,
   "metadata": {
    "execution": {
     "iopub.execute_input": "2022-03-20T14:17:06.346185Z",
     "iopub.status.busy": "2022-03-20T14:17:06.345376Z",
     "iopub.status.idle": "2022-03-20T14:17:06.465497Z",
     "shell.execute_reply": "2022-03-20T14:17:06.464611Z",
     "shell.execute_reply.started": "2022-03-20T14:17:06.346138Z"
    }
   },
   "outputs": [
    {
     "data": {
      "text/html": [
       "<div>\n",
       "<style scoped>\n",
       "    .dataframe tbody tr th:only-of-type {\n",
       "        vertical-align: middle;\n",
       "    }\n",
       "\n",
       "    .dataframe tbody tr th {\n",
       "        vertical-align: top;\n",
       "    }\n",
       "\n",
       "    .dataframe thead th {\n",
       "        text-align: right;\n",
       "    }\n",
       "</style>\n",
       "<table border=\"1\" class=\"dataframe\">\n",
       "  <thead>\n",
       "    <tr style=\"text-align: right;\">\n",
       "      <th></th>\n",
       "      <th>id</th>\n",
       "      <th>Age</th>\n",
       "      <th>Driving_License</th>\n",
       "      <th>Region_Code</th>\n",
       "      <th>Previously_Insured</th>\n",
       "      <th>Annual_Premium</th>\n",
       "      <th>Policy_Sales_Channel</th>\n",
       "      <th>Vintage</th>\n",
       "      <th>Response</th>\n",
       "    </tr>\n",
       "  </thead>\n",
       "  <tbody>\n",
       "    <tr>\n",
       "      <th>count</th>\n",
       "      <td>305723.000000</td>\n",
       "      <td>305723.000000</td>\n",
       "      <td>305723.000000</td>\n",
       "      <td>305723.000000</td>\n",
       "      <td>305723.000000</td>\n",
       "      <td>305723.000000</td>\n",
       "      <td>305723.000000</td>\n",
       "      <td>305723.000000</td>\n",
       "      <td>305723.000000</td>\n",
       "    </tr>\n",
       "    <tr>\n",
       "      <th>mean</th>\n",
       "      <td>234422.768922</td>\n",
       "      <td>38.527029</td>\n",
       "      <td>0.998106</td>\n",
       "      <td>26.427413</td>\n",
       "      <td>0.489878</td>\n",
       "      <td>30698.991479</td>\n",
       "      <td>111.927369</td>\n",
       "      <td>154.317362</td>\n",
       "      <td>0.163413</td>\n",
       "    </tr>\n",
       "    <tr>\n",
       "      <th>std</th>\n",
       "      <td>139493.010325</td>\n",
       "      <td>15.216020</td>\n",
       "      <td>0.043477</td>\n",
       "      <td>13.178366</td>\n",
       "      <td>0.499898</td>\n",
       "      <td>17060.104811</td>\n",
       "      <td>54.302872</td>\n",
       "      <td>83.708893</td>\n",
       "      <td>0.369742</td>\n",
       "    </tr>\n",
       "    <tr>\n",
       "      <th>min</th>\n",
       "      <td>1.000000</td>\n",
       "      <td>20.000000</td>\n",
       "      <td>0.000000</td>\n",
       "      <td>0.000000</td>\n",
       "      <td>0.000000</td>\n",
       "      <td>2630.000000</td>\n",
       "      <td>1.000000</td>\n",
       "      <td>10.000000</td>\n",
       "      <td>0.000000</td>\n",
       "    </tr>\n",
       "    <tr>\n",
       "      <th>25%</th>\n",
       "      <td>115055.000000</td>\n",
       "      <td>25.000000</td>\n",
       "      <td>1.000000</td>\n",
       "      <td>15.000000</td>\n",
       "      <td>0.000000</td>\n",
       "      <td>24533.500000</td>\n",
       "      <td>26.000000</td>\n",
       "      <td>82.000000</td>\n",
       "      <td>0.000000</td>\n",
       "    </tr>\n",
       "    <tr>\n",
       "      <th>50%</th>\n",
       "      <td>230662.000000</td>\n",
       "      <td>36.000000</td>\n",
       "      <td>1.000000</td>\n",
       "      <td>28.000000</td>\n",
       "      <td>0.000000</td>\n",
       "      <td>31685.000000</td>\n",
       "      <td>145.000000</td>\n",
       "      <td>154.000000</td>\n",
       "      <td>0.000000</td>\n",
       "    </tr>\n",
       "    <tr>\n",
       "      <th>75%</th>\n",
       "      <td>345313.500000</td>\n",
       "      <td>49.000000</td>\n",
       "      <td>1.000000</td>\n",
       "      <td>35.000000</td>\n",
       "      <td>1.000000</td>\n",
       "      <td>39425.000000</td>\n",
       "      <td>152.000000</td>\n",
       "      <td>227.000000</td>\n",
       "      <td>0.000000</td>\n",
       "    </tr>\n",
       "    <tr>\n",
       "      <th>max</th>\n",
       "      <td>508145.000000</td>\n",
       "      <td>85.000000</td>\n",
       "      <td>1.000000</td>\n",
       "      <td>52.000000</td>\n",
       "      <td>1.000000</td>\n",
       "      <td>540165.000000</td>\n",
       "      <td>163.000000</td>\n",
       "      <td>299.000000</td>\n",
       "      <td>1.000000</td>\n",
       "    </tr>\n",
       "  </tbody>\n",
       "</table>\n",
       "</div>"
      ],
      "text/plain": [
       "                  id            Age  Driving_License    Region_Code  \\\n",
       "count  305723.000000  305723.000000    305723.000000  305723.000000   \n",
       "mean   234422.768922      38.527029         0.998106      26.427413   \n",
       "std    139493.010325      15.216020         0.043477      13.178366   \n",
       "min         1.000000      20.000000         0.000000       0.000000   \n",
       "25%    115055.000000      25.000000         1.000000      15.000000   \n",
       "50%    230662.000000      36.000000         1.000000      28.000000   \n",
       "75%    345313.500000      49.000000         1.000000      35.000000   \n",
       "max    508145.000000      85.000000         1.000000      52.000000   \n",
       "\n",
       "       Previously_Insured  Annual_Premium  Policy_Sales_Channel  \\\n",
       "count       305723.000000   305723.000000         305723.000000   \n",
       "mean             0.489878    30698.991479            111.927369   \n",
       "std              0.499898    17060.104811             54.302872   \n",
       "min              0.000000     2630.000000              1.000000   \n",
       "25%              0.000000    24533.500000             26.000000   \n",
       "50%              0.000000    31685.000000            145.000000   \n",
       "75%              1.000000    39425.000000            152.000000   \n",
       "max              1.000000   540165.000000            163.000000   \n",
       "\n",
       "             Vintage       Response  \n",
       "count  305723.000000  305723.000000  \n",
       "mean      154.317362       0.163413  \n",
       "std        83.708893       0.369742  \n",
       "min        10.000000       0.000000  \n",
       "25%        82.000000       0.000000  \n",
       "50%       154.000000       0.000000  \n",
       "75%       227.000000       0.000000  \n",
       "max       299.000000       1.000000  "
      ]
     },
     "execution_count": 8,
     "metadata": {},
     "output_type": "execute_result"
    }
   ],
   "source": [
    "\"\"\"\n",
    "Data Describion, numerical features\n",
    "\"\"\"\n",
    "train.describe()"
   ]
  },
  {
   "cell_type": "code",
   "execution_count": 9,
   "metadata": {
    "execution": {
     "iopub.execute_input": "2022-03-20T14:17:08.293457Z",
     "iopub.status.busy": "2022-03-20T14:17:08.292972Z",
     "iopub.status.idle": "2022-03-20T14:17:08.516693Z",
     "shell.execute_reply": "2022-03-20T14:17:08.515902Z",
     "shell.execute_reply.started": "2022-03-20T14:17:08.293426Z"
    }
   },
   "outputs": [
    {
     "name": "stderr",
     "output_type": "stream",
     "text": [
      "C:\\Users\\DELL\\anaconda3\\lib\\site-packages\\seaborn\\_decorators.py:36: FutureWarning: Pass the following variable as a keyword arg: x. From version 0.12, the only valid positional argument will be `data`, and passing other arguments without an explicit keyword will result in an error or misinterpretation.\n",
      "  warnings.warn(\n"
     ]
    },
    {
     "data": {
      "image/png": "[encoded data removed]",
      "text/plain": [
       "<Figure size 1296x360 with 1 Axes>"
      ]
     },
     "metadata": {
      "needs_background": "light"
     },
     "output_type": "display_data"
    }
   ],
   "source": [
    "\"\"\"\n",
    "Check features distribution\n",
    "\"\"\"\n",
    "plt.figure(figsize = (18, 5))\n",
    "sns.boxplot(train.Annual_Premium)\n",
    "plt.show()"
   ]
  },
  {
   "cell_type": "code",
   "execution_count": 10,
   "metadata": {
    "execution": {
     "iopub.execute_input": "2022-03-20T14:17:12.831514Z",
     "iopub.status.busy": "2022-03-20T14:17:12.830564Z",
     "iopub.status.idle": "2022-03-20T14:17:12.841132Z",
     "shell.execute_reply": "2022-03-20T14:17:12.840375Z",
     "shell.execute_reply.started": "2022-03-20T14:17:12.831468Z"
    }
   },
   "outputs": [
    {
     "data": {
      "text/plain": [
       "Yes    11\n",
       "No      5\n",
       "Name: Vehicle_Damage, dtype: int64"
      ]
     },
     "execution_count": 10,
     "metadata": {},
     "output_type": "execute_result"
    }
   ],
   "source": [
    "\"\"\"\n",
    "Damage for annual premium > 350000\n",
    "\"\"\"\n",
    "train.loc[(train['Annual_Premium'] > 350000)]['Vehicle_Damage'].value_counts()"
   ]
  },
  {
   "cell_type": "code",
   "execution_count": 11,
   "metadata": {
    "execution": {
     "iopub.execute_input": "2022-03-20T14:17:14.389810Z",
     "iopub.status.busy": "2022-03-20T14:17:14.389125Z",
     "iopub.status.idle": "2022-03-20T14:17:14.400020Z",
     "shell.execute_reply": "2022-03-20T14:17:14.399075Z",
     "shell.execute_reply.started": "2022-03-20T14:17:14.389770Z"
    }
   },
   "outputs": [
    {
     "data": {
      "text/plain": [
       "0    1012\n",
       "1     885\n",
       "Name: Previously_Insured, dtype: int64"
      ]
     },
     "execution_count": 11,
     "metadata": {},
     "output_type": "execute_result"
    }
   ],
   "source": [
    "\"\"\"\n",
    "Previously insured for annual premium > 80000\n",
    "\"\"\"\n",
    "train.loc[(train['Annual_Premium'] > 80000)]['Previously_Insured'].value_counts()"
   ]
  },
  {
   "cell_type": "code",
   "execution_count": 12,
   "metadata": {
    "execution": {
     "iopub.execute_input": "2022-03-20T14:18:16.745587Z",
     "iopub.status.busy": "2022-03-20T14:18:16.745281Z",
     "iopub.status.idle": "2022-03-20T14:18:16.755484Z",
     "shell.execute_reply": "2022-03-20T14:18:16.754674Z",
     "shell.execute_reply.started": "2022-03-20T14:18:16.745548Z"
    }
   },
   "outputs": [
    {
     "data": {
      "text/plain": [
       "1-2 Year     7\n",
       "< 1 Year     2\n",
       "> 2 Years    1\n",
       "Name: Vehicle_Age, dtype: int64"
      ]
     },
     "execution_count": 12,
     "metadata": {},
     "output_type": "execute_result"
    }
   ],
   "source": [
    "\"\"\"\n",
    "Vehicle_Age for annual premium > 400000\n",
    "\"\"\"\n",
    "train.loc[(train['Annual_Premium'] > 400000)]['Vehicle_Age'].value_counts()"
   ]
  },
  {
   "cell_type": "code",
   "execution_count": 13,
   "metadata": {
    "execution": {
     "iopub.execute_input": "2022-03-20T14:18:33.357750Z",
     "iopub.status.busy": "2022-03-20T14:18:33.357185Z",
     "iopub.status.idle": "2022-03-20T14:18:33.411471Z",
     "shell.execute_reply": "2022-03-20T14:18:33.410574Z",
     "shell.execute_reply.started": "2022-03-20T14:18:33.357715Z"
    }
   },
   "outputs": [
    {
     "data": {
      "text/plain": [
       "1-2 Year     159977\n",
       "< 1 Year     133237\n",
       "> 2 Years     12509\n",
       "Name: Vehicle_Age, dtype: int64"
      ]
     },
     "execution_count": 13,
     "metadata": {},
     "output_type": "execute_result"
    }
   ],
   "source": [
    "\"\"\"\n",
    "Vehicle_Age values\n",
    "\"\"\"\n",
    "train.Vehicle_Age.value_counts()"
   ]
  },
  {
   "cell_type": "code",
   "execution_count": 14,
   "metadata": {
    "execution": {
     "iopub.execute_input": "2022-03-20T14:37:41.145788Z",
     "iopub.status.busy": "2022-03-20T14:37:41.145169Z",
     "iopub.status.idle": "2022-03-20T14:37:41.285649Z",
     "shell.execute_reply": "2022-03-20T14:37:41.284728Z",
     "shell.execute_reply.started": "2022-03-20T14:37:41.145722Z"
    }
   },
   "outputs": [],
   "source": [
    "\"\"\"\n",
    "Changing categorical columns to numerical\n",
    "\"\"\"\n",
    "gender = {'Male': 0, 'Female': 1}\n",
    "vehicle_age = {'> 2 Years': 2, '1-2 Year': 1, '< 1 Year': 0}\n",
    "vehicle_damage = {'Yes': 1, 'No': 0}\n",
    "train['Gender'] = train['Gender'].map(gender)\n",
    "train['Vehicle_Age'] = train['Vehicle_Age'].map(vehicle_age)\n",
    "train['Vehicle_Damage'] = train['Vehicle_Damage'].map(vehicle_damage)\n",
    "\n",
    "gender = {'Male': 0, 'Female': 1}\n",
    "vehicle_age = {'> 2 Years': 2, '1-2 Year': 1, '< 1 Year': 0}\n",
    "vehicle_damage = {'Yes': 1, 'No': 0}\n",
    "test['Gender'] = test['Gender'].map(gender)\n",
    "test['Vehicle_Age'] = test['Vehicle_Age'].map(vehicle_age)\n",
    "test['Vehicle_Damage'] = test['Vehicle_Damage'].map(vehicle_damage)"
   ]
  },
  {
   "cell_type": "code",
   "execution_count": 15,
   "metadata": {
    "execution": {
     "iopub.execute_input": "2022-03-20T14:27:39.566392Z",
     "iopub.status.busy": "2022-03-20T14:27:39.566135Z",
     "iopub.status.idle": "2022-03-20T14:27:39.607015Z",
     "shell.execute_reply": "2022-03-20T14:27:39.606070Z",
     "shell.execute_reply.started": "2022-03-20T14:27:39.566362Z"
    }
   },
   "outputs": [
    {
     "data": {
      "text/html": [
       "<div>\n",
       "<style scoped>\n",
       "    .dataframe tbody tr th:only-of-type {\n",
       "        vertical-align: middle;\n",
       "    }\n",
       "\n",
       "    .dataframe tbody tr th {\n",
       "        vertical-align: top;\n",
       "    }\n",
       "\n",
       "    .dataframe thead th {\n",
       "        text-align: right;\n",
       "    }\n",
       "</style>\n",
       "<table border=\"1\" class=\"dataframe\">\n",
       "  <thead>\n",
       "    <tr style=\"text-align: right;\">\n",
       "      <th></th>\n",
       "      <th>Annual_Premium</th>\n",
       "    </tr>\n",
       "  </thead>\n",
       "  <tbody>\n",
       "    <tr>\n",
       "      <th>count</th>\n",
       "      <td>12509.000000</td>\n",
       "    </tr>\n",
       "    <tr>\n",
       "      <th>mean</th>\n",
       "      <td>36197.538332</td>\n",
       "    </tr>\n",
       "    <tr>\n",
       "      <th>std</th>\n",
       "      <td>19722.793288</td>\n",
       "    </tr>\n",
       "    <tr>\n",
       "      <th>min</th>\n",
       "      <td>2630.000000</td>\n",
       "    </tr>\n",
       "    <tr>\n",
       "      <th>25%</th>\n",
       "      <td>28791.000000</td>\n",
       "    </tr>\n",
       "    <tr>\n",
       "      <th>50%</th>\n",
       "      <td>37886.000000</td>\n",
       "    </tr>\n",
       "    <tr>\n",
       "      <th>75%</th>\n",
       "      <td>46981.000000</td>\n",
       "    </tr>\n",
       "    <tr>\n",
       "      <th>max</th>\n",
       "      <td>448156.000000</td>\n",
       "    </tr>\n",
       "  </tbody>\n",
       "</table>\n",
       "</div>"
      ],
      "text/plain": [
       "       Annual_Premium\n",
       "count    12509.000000\n",
       "mean     36197.538332\n",
       "std      19722.793288\n",
       "min       2630.000000\n",
       "25%      28791.000000\n",
       "50%      37886.000000\n",
       "75%      46981.000000\n",
       "max     448156.000000"
      ]
     },
     "execution_count": 15,
     "metadata": {},
     "output_type": "execute_result"
    }
   ],
   "source": [
    "\"\"\"\n",
    "Describe Annual_Premium for Vehicle_Age == 2\n",
    "\"\"\"\n",
    "df_t2 = train.loc[((train['Vehicle_Age'] == 2))]\n",
    "df_t2.describe()['Annual_Premium'].to_frame()"
   ]
  },
  {
   "cell_type": "code",
   "execution_count": 16,
   "metadata": {
    "execution": {
     "iopub.execute_input": "2022-03-20T14:27:40.176235Z",
     "iopub.status.busy": "2022-03-20T14:27:40.175738Z",
     "iopub.status.idle": "2022-03-20T14:27:40.282671Z",
     "shell.execute_reply": "2022-03-20T14:27:40.281696Z",
     "shell.execute_reply.started": "2022-03-20T14:27:40.176200Z"
    }
   },
   "outputs": [
    {
     "data": {
      "text/html": [
       "<div>\n",
       "<style scoped>\n",
       "    .dataframe tbody tr th:only-of-type {\n",
       "        vertical-align: middle;\n",
       "    }\n",
       "\n",
       "    .dataframe tbody tr th {\n",
       "        vertical-align: top;\n",
       "    }\n",
       "\n",
       "    .dataframe thead th {\n",
       "        text-align: right;\n",
       "    }\n",
       "</style>\n",
       "<table border=\"1\" class=\"dataframe\">\n",
       "  <thead>\n",
       "    <tr style=\"text-align: right;\">\n",
       "      <th></th>\n",
       "      <th>Annual_Premium</th>\n",
       "    </tr>\n",
       "  </thead>\n",
       "  <tbody>\n",
       "    <tr>\n",
       "      <th>count</th>\n",
       "      <td>159977.000000</td>\n",
       "    </tr>\n",
       "    <tr>\n",
       "      <th>mean</th>\n",
       "      <td>30601.641398</td>\n",
       "    </tr>\n",
       "    <tr>\n",
       "      <th>std</th>\n",
       "      <td>18351.362768</td>\n",
       "    </tr>\n",
       "    <tr>\n",
       "      <th>min</th>\n",
       "      <td>2630.000000</td>\n",
       "    </tr>\n",
       "    <tr>\n",
       "      <th>25%</th>\n",
       "      <td>23879.000000</td>\n",
       "    </tr>\n",
       "    <tr>\n",
       "      <th>50%</th>\n",
       "      <td>32449.000000</td>\n",
       "    </tr>\n",
       "    <tr>\n",
       "      <th>75%</th>\n",
       "      <td>40746.000000</td>\n",
       "    </tr>\n",
       "    <tr>\n",
       "      <th>max</th>\n",
       "      <td>540165.000000</td>\n",
       "    </tr>\n",
       "  </tbody>\n",
       "</table>\n",
       "</div>"
      ],
      "text/plain": [
       "       Annual_Premium\n",
       "count   159977.000000\n",
       "mean     30601.641398\n",
       "std      18351.362768\n",
       "min       2630.000000\n",
       "25%      23879.000000\n",
       "50%      32449.000000\n",
       "75%      40746.000000\n",
       "max     540165.000000"
      ]
     },
     "execution_count": 16,
     "metadata": {},
     "output_type": "execute_result"
    }
   ],
   "source": [
    "\"\"\"\n",
    "Describe Annual_Premium for Vehicle_Age == 1\n",
    "\"\"\"\n",
    "df_t1 = train.loc[((train['Vehicle_Age'] == 1))]\n",
    "df_t1.describe()['Annual_Premium'].to_frame()"
   ]
  },
  {
   "cell_type": "code",
   "execution_count": 17,
   "metadata": {
    "execution": {
     "iopub.execute_input": "2022-03-20T14:27:45.434059Z",
     "iopub.status.busy": "2022-03-20T14:27:45.433806Z",
     "iopub.status.idle": "2022-03-20T14:27:45.515646Z",
     "shell.execute_reply": "2022-03-20T14:27:45.514780Z",
     "shell.execute_reply.started": "2022-03-20T14:27:45.434032Z"
    }
   },
   "outputs": [
    {
     "data": {
      "text/html": [
       "<div>\n",
       "<style scoped>\n",
       "    .dataframe tbody tr th:only-of-type {\n",
       "        vertical-align: middle;\n",
       "    }\n",
       "\n",
       "    .dataframe tbody tr th {\n",
       "        vertical-align: top;\n",
       "    }\n",
       "\n",
       "    .dataframe thead th {\n",
       "        text-align: right;\n",
       "    }\n",
       "</style>\n",
       "<table border=\"1\" class=\"dataframe\">\n",
       "  <thead>\n",
       "    <tr style=\"text-align: right;\">\n",
       "      <th></th>\n",
       "      <th>Annual_Premium</th>\n",
       "    </tr>\n",
       "  </thead>\n",
       "  <tbody>\n",
       "    <tr>\n",
       "      <th>count</th>\n",
       "      <td>133237.000000</td>\n",
       "    </tr>\n",
       "    <tr>\n",
       "      <th>mean</th>\n",
       "      <td>30299.646337</td>\n",
       "    </tr>\n",
       "    <tr>\n",
       "      <th>std</th>\n",
       "      <td>14964.801577</td>\n",
       "    </tr>\n",
       "    <tr>\n",
       "      <th>min</th>\n",
       "      <td>2630.000000</td>\n",
       "    </tr>\n",
       "    <tr>\n",
       "      <th>25%</th>\n",
       "      <td>24776.000000</td>\n",
       "    </tr>\n",
       "    <tr>\n",
       "      <th>50%</th>\n",
       "      <td>30553.000000</td>\n",
       "    </tr>\n",
       "    <tr>\n",
       "      <th>75%</th>\n",
       "      <td>37217.000000</td>\n",
       "    </tr>\n",
       "    <tr>\n",
       "      <th>max</th>\n",
       "      <td>540165.000000</td>\n",
       "    </tr>\n",
       "  </tbody>\n",
       "</table>\n",
       "</div>"
      ],
      "text/plain": [
       "       Annual_Premium\n",
       "count   133237.000000\n",
       "mean     30299.646337\n",
       "std      14964.801577\n",
       "min       2630.000000\n",
       "25%      24776.000000\n",
       "50%      30553.000000\n",
       "75%      37217.000000\n",
       "max     540165.000000"
      ]
     },
     "execution_count": 17,
     "metadata": {},
     "output_type": "execute_result"
    }
   ],
   "source": [
    "\"\"\"\n",
    "Describe Annual_Premium for Vehicle_Age == 1\n",
    "\"\"\"\n",
    "df_t0 = train.loc[((train['Vehicle_Age'] == 0))]\n",
    "df_t0.describe()['Annual_Premium'].to_frame()"
   ]
  },
  {
   "cell_type": "code",
   "execution_count": 18,
   "metadata": {
    "execution": {
     "iopub.execute_input": "2022-03-20T14:26:49.859031Z",
     "iopub.status.busy": "2022-03-20T14:26:49.858728Z",
     "iopub.status.idle": "2022-03-20T14:26:52.776309Z",
     "shell.execute_reply": "2022-03-20T14:26:52.775277Z",
     "shell.execute_reply.started": "2022-03-20T14:26:49.858999Z"
    }
   },
   "outputs": [
    {
     "data": {
      "text/plain": [
       "<seaborn.axisgrid.FacetGrid at 0x29346d36340>"
      ]
     },
     "execution_count": 18,
     "metadata": {},
     "output_type": "execute_result"
    },
    {
     "data": {
      "image/png": "[encoded data removed]",
      "text/plain": [
       "<Figure size 360x360 with 1 Axes>"
      ]
     },
     "metadata": {
      "needs_background": "light"
     },
     "output_type": "display_data"
    }
   ],
   "source": [
    "sns.displot(df_t0['Annual_Premium'])"
   ]
  },
  {
   "cell_type": "code",
   "execution_count": 19,
   "metadata": {
    "execution": {
     "iopub.execute_input": "2022-03-20T14:27:00.476947Z",
     "iopub.status.busy": "2022-03-20T14:27:00.476622Z",
     "iopub.status.idle": "2022-03-20T14:27:00.503262Z",
     "shell.execute_reply": "2022-03-20T14:27:00.502601Z",
     "shell.execute_reply.started": "2022-03-20T14:27:00.476912Z"
    }
   },
   "outputs": [
    {
     "data": {
      "text/html": [
       "<div>\n",
       "<style scoped>\n",
       "    .dataframe tbody tr th:only-of-type {\n",
       "        vertical-align: middle;\n",
       "    }\n",
       "\n",
       "    .dataframe tbody tr th {\n",
       "        vertical-align: top;\n",
       "    }\n",
       "\n",
       "    .dataframe thead th {\n",
       "        text-align: right;\n",
       "    }\n",
       "</style>\n",
       "<table border=\"1\" class=\"dataframe\">\n",
       "  <thead>\n",
       "    <tr style=\"text-align: right;\">\n",
       "      <th></th>\n",
       "      <th>id</th>\n",
       "      <th>Gender</th>\n",
       "      <th>Age</th>\n",
       "      <th>Driving_License</th>\n",
       "      <th>Region_Code</th>\n",
       "      <th>Previously_Insured</th>\n",
       "      <th>Vehicle_Age</th>\n",
       "      <th>Vehicle_Damage</th>\n",
       "      <th>Annual_Premium</th>\n",
       "      <th>Policy_Sales_Channel</th>\n",
       "      <th>Vintage</th>\n",
       "      <th>Response</th>\n",
       "    </tr>\n",
       "  </thead>\n",
       "  <tbody>\n",
       "    <tr>\n",
       "      <th>106</th>\n",
       "      <td>140668</td>\n",
       "      <td>0</td>\n",
       "      <td>59</td>\n",
       "      <td>1</td>\n",
       "      <td>48.0</td>\n",
       "      <td>0</td>\n",
       "      <td>2</td>\n",
       "      <td>1</td>\n",
       "      <td>2630.0</td>\n",
       "      <td>26.0</td>\n",
       "      <td>62</td>\n",
       "      <td>0</td>\n",
       "    </tr>\n",
       "    <tr>\n",
       "      <th>155</th>\n",
       "      <td>256896</td>\n",
       "      <td>1</td>\n",
       "      <td>66</td>\n",
       "      <td>1</td>\n",
       "      <td>41.0</td>\n",
       "      <td>0</td>\n",
       "      <td>2</td>\n",
       "      <td>1</td>\n",
       "      <td>2630.0</td>\n",
       "      <td>157.0</td>\n",
       "      <td>253</td>\n",
       "      <td>0</td>\n",
       "    </tr>\n",
       "    <tr>\n",
       "      <th>236</th>\n",
       "      <td>278593</td>\n",
       "      <td>1</td>\n",
       "      <td>60</td>\n",
       "      <td>1</td>\n",
       "      <td>48.0</td>\n",
       "      <td>0</td>\n",
       "      <td>2</td>\n",
       "      <td>1</td>\n",
       "      <td>2630.0</td>\n",
       "      <td>26.0</td>\n",
       "      <td>276</td>\n",
       "      <td>0</td>\n",
       "    </tr>\n",
       "    <tr>\n",
       "      <th>297</th>\n",
       "      <td>16201</td>\n",
       "      <td>0</td>\n",
       "      <td>41</td>\n",
       "      <td>1</td>\n",
       "      <td>41.0</td>\n",
       "      <td>0</td>\n",
       "      <td>2</td>\n",
       "      <td>1</td>\n",
       "      <td>2630.0</td>\n",
       "      <td>26.0</td>\n",
       "      <td>193</td>\n",
       "      <td>0</td>\n",
       "    </tr>\n",
       "    <tr>\n",
       "      <th>516</th>\n",
       "      <td>111799</td>\n",
       "      <td>1</td>\n",
       "      <td>50</td>\n",
       "      <td>1</td>\n",
       "      <td>16.0</td>\n",
       "      <td>0</td>\n",
       "      <td>2</td>\n",
       "      <td>1</td>\n",
       "      <td>2630.0</td>\n",
       "      <td>124.0</td>\n",
       "      <td>274</td>\n",
       "      <td>1</td>\n",
       "    </tr>\n",
       "    <tr>\n",
       "      <th>...</th>\n",
       "      <td>...</td>\n",
       "      <td>...</td>\n",
       "      <td>...</td>\n",
       "      <td>...</td>\n",
       "      <td>...</td>\n",
       "      <td>...</td>\n",
       "      <td>...</td>\n",
       "      <td>...</td>\n",
       "      <td>...</td>\n",
       "      <td>...</td>\n",
       "      <td>...</td>\n",
       "      <td>...</td>\n",
       "    </tr>\n",
       "    <tr>\n",
       "      <th>305482</th>\n",
       "      <td>303911</td>\n",
       "      <td>1</td>\n",
       "      <td>74</td>\n",
       "      <td>1</td>\n",
       "      <td>7.0</td>\n",
       "      <td>0</td>\n",
       "      <td>2</td>\n",
       "      <td>1</td>\n",
       "      <td>2630.0</td>\n",
       "      <td>26.0</td>\n",
       "      <td>51</td>\n",
       "      <td>0</td>\n",
       "    </tr>\n",
       "    <tr>\n",
       "      <th>305534</th>\n",
       "      <td>445551</td>\n",
       "      <td>0</td>\n",
       "      <td>63</td>\n",
       "      <td>1</td>\n",
       "      <td>41.0</td>\n",
       "      <td>0</td>\n",
       "      <td>2</td>\n",
       "      <td>1</td>\n",
       "      <td>2630.0</td>\n",
       "      <td>26.0</td>\n",
       "      <td>10</td>\n",
       "      <td>1</td>\n",
       "    </tr>\n",
       "    <tr>\n",
       "      <th>305559</th>\n",
       "      <td>323655</td>\n",
       "      <td>0</td>\n",
       "      <td>57</td>\n",
       "      <td>1</td>\n",
       "      <td>8.0</td>\n",
       "      <td>0</td>\n",
       "      <td>2</td>\n",
       "      <td>1</td>\n",
       "      <td>2630.0</td>\n",
       "      <td>7.0</td>\n",
       "      <td>248</td>\n",
       "      <td>1</td>\n",
       "    </tr>\n",
       "    <tr>\n",
       "      <th>305615</th>\n",
       "      <td>143925</td>\n",
       "      <td>1</td>\n",
       "      <td>51</td>\n",
       "      <td>1</td>\n",
       "      <td>0.0</td>\n",
       "      <td>0</td>\n",
       "      <td>2</td>\n",
       "      <td>1</td>\n",
       "      <td>2630.0</td>\n",
       "      <td>124.0</td>\n",
       "      <td>249</td>\n",
       "      <td>0</td>\n",
       "    </tr>\n",
       "    <tr>\n",
       "      <th>305682</th>\n",
       "      <td>90831</td>\n",
       "      <td>1</td>\n",
       "      <td>49</td>\n",
       "      <td>1</td>\n",
       "      <td>28.0</td>\n",
       "      <td>0</td>\n",
       "      <td>2</td>\n",
       "      <td>1</td>\n",
       "      <td>2630.0</td>\n",
       "      <td>157.0</td>\n",
       "      <td>99</td>\n",
       "      <td>0</td>\n",
       "    </tr>\n",
       "  </tbody>\n",
       "</table>\n",
       "<p>2015 rows × 12 columns</p>\n",
       "</div>"
      ],
      "text/plain": [
       "            id  Gender  Age  Driving_License  Region_Code  Previously_Insured  \\\n",
       "106     140668       0   59                1         48.0                   0   \n",
       "155     256896       1   66                1         41.0                   0   \n",
       "236     278593       1   60                1         48.0                   0   \n",
       "297      16201       0   41                1         41.0                   0   \n",
       "516     111799       1   50                1         16.0                   0   \n",
       "...        ...     ...  ...              ...          ...                 ...   \n",
       "305482  303911       1   74                1          7.0                   0   \n",
       "305534  445551       0   63                1         41.0                   0   \n",
       "305559  323655       0   57                1          8.0                   0   \n",
       "305615  143925       1   51                1          0.0                   0   \n",
       "305682   90831       1   49                1         28.0                   0   \n",
       "\n",
       "        Vehicle_Age  Vehicle_Damage  Annual_Premium  Policy_Sales_Channel  \\\n",
       "106               2               1          2630.0                  26.0   \n",
       "155               2               1          2630.0                 157.0   \n",
       "236               2               1          2630.0                  26.0   \n",
       "297               2               1          2630.0                  26.0   \n",
       "516               2               1          2630.0                 124.0   \n",
       "...             ...             ...             ...                   ...   \n",
       "305482            2               1          2630.0                  26.0   \n",
       "305534            2               1          2630.0                  26.0   \n",
       "305559            2               1          2630.0                   7.0   \n",
       "305615            2               1          2630.0                 124.0   \n",
       "305682            2               1          2630.0                 157.0   \n",
       "\n",
       "        Vintage  Response  \n",
       "106          62         0  \n",
       "155         253         0  \n",
       "236         276         0  \n",
       "297         193         0  \n",
       "516         274         1  \n",
       "...         ...       ...  \n",
       "305482       51         0  \n",
       "305534       10         1  \n",
       "305559      248         1  \n",
       "305615      249         0  \n",
       "305682       99         0  \n",
       "\n",
       "[2015 rows x 12 columns]"
      ]
     },
     "execution_count": 19,
     "metadata": {},
     "output_type": "execute_result"
    }
   ],
   "source": [
    "\"\"\"\n",
    "Exploring Annual_Premium for Vehicle_Age == 2, Annual_Premium == 2630\n",
    "\"\"\"\n",
    "train[((train['Annual_Premium'] == 2630) & (train['Vehicle_Age'] == 2))]"
   ]
  },
  {
   "cell_type": "code",
   "execution_count": 20,
   "metadata": {
    "execution": {
     "iopub.execute_input": "2022-03-20T14:27:49.639655Z",
     "iopub.status.busy": "2022-03-20T14:27:49.638581Z",
     "iopub.status.idle": "2022-03-20T14:27:54.461558Z",
     "shell.execute_reply": "2022-03-20T14:27:54.460748Z",
     "shell.execute_reply.started": "2022-03-20T14:27:49.639609Z"
    }
   },
   "outputs": [
    {
     "data": {
      "text/plain": [
       "<Figure size 720x1080 with 0 Axes>"
      ]
     },
     "metadata": {},
     "output_type": "display_data"
    },
    {
     "data": {
      "image/png": "[encoded data removed]",
      "text/plain": [
       "<Figure size 2160x720 with 3 Axes>"
      ]
     },
     "metadata": {
      "needs_background": "light"
     },
     "output_type": "display_data"
    }
   ],
   "source": [
    "\"\"\"\n",
    "Exploring Annual_Premium for Vehicle_Age == 2, 1 ,0\n",
    "\"\"\"\n",
    "plt.figure(figsize = (10,15))\n",
    "fig, (ax1, ax2 ,ax3) = plt.subplots(1, 3 , figsize = (30,10))\n",
    "sns.histplot(df_t0['Annual_Premium'] , ax = ax1)\n",
    "sns.histplot(df_t1['Annual_Premium'] , ax = ax2)\n",
    "sns.histplot(df_t2['Annual_Premium'] , ax = ax3)\n",
    "plt.show()"
   ]
  },
  {
   "cell_type": "code",
   "execution_count": 21,
   "metadata": {
    "execution": {
     "iopub.execute_input": "2022-03-20T14:29:27.537857Z",
     "iopub.status.busy": "2022-03-20T14:29:27.537579Z",
     "iopub.status.idle": "2022-03-20T14:29:27.666498Z",
     "shell.execute_reply": "2022-03-20T14:29:27.665749Z",
     "shell.execute_reply.started": "2022-03-20T14:29:27.537821Z"
    }
   },
   "outputs": [
    {
     "data": {
      "text/html": [
       "<div>\n",
       "<style scoped>\n",
       "    .dataframe tbody tr th:only-of-type {\n",
       "        vertical-align: middle;\n",
       "    }\n",
       "\n",
       "    .dataframe tbody tr th {\n",
       "        vertical-align: top;\n",
       "    }\n",
       "\n",
       "    .dataframe thead th {\n",
       "        text-align: right;\n",
       "    }\n",
       "</style>\n",
       "<table border=\"1\" class=\"dataframe\">\n",
       "  <thead>\n",
       "    <tr style=\"text-align: right;\">\n",
       "      <th>Vehicle_Damage</th>\n",
       "      <th>0</th>\n",
       "      <th>1</th>\n",
       "      <th>All</th>\n",
       "    </tr>\n",
       "    <tr>\n",
       "      <th>Gender</th>\n",
       "      <th></th>\n",
       "      <th></th>\n",
       "      <th></th>\n",
       "    </tr>\n",
       "  </thead>\n",
       "  <tbody>\n",
       "    <tr>\n",
       "      <th>0</th>\n",
       "      <td>77843</td>\n",
       "      <td>86752</td>\n",
       "      <td>164595</td>\n",
       "    </tr>\n",
       "    <tr>\n",
       "      <th>1</th>\n",
       "      <td>81048</td>\n",
       "      <td>60080</td>\n",
       "      <td>141128</td>\n",
       "    </tr>\n",
       "    <tr>\n",
       "      <th>All</th>\n",
       "      <td>158891</td>\n",
       "      <td>146832</td>\n",
       "      <td>305723</td>\n",
       "    </tr>\n",
       "  </tbody>\n",
       "</table>\n",
       "</div>"
      ],
      "text/plain": [
       "Vehicle_Damage       0       1     All\n",
       "Gender                                \n",
       "0                77843   86752  164595\n",
       "1                81048   60080  141128\n",
       "All             158891  146832  305723"
      ]
     },
     "execution_count": 21,
     "metadata": {},
     "output_type": "execute_result"
    }
   ],
   "source": [
    "\"\"\"\n",
    "Checking which category(male or female) causes accidents more :D\n",
    "\"\"\"\n",
    "index =train['Vehicle_Damage'].value_counts().index\n",
    "values=train['Vehicle_Damage'].value_counts().values\n",
    "pd.crosstab(train['Gender'] ,train['Vehicle_Damage'] , margins = True)#.plot(kind = 'bar')"
   ]
  },
  {
   "cell_type": "code",
   "execution_count": 22,
   "metadata": {
    "execution": {
     "iopub.execute_input": "2022-03-20T14:29:31.877990Z",
     "iopub.status.busy": "2022-03-20T14:29:31.877572Z",
     "iopub.status.idle": "2022-03-20T14:29:31.890446Z",
     "shell.execute_reply": "2022-03-20T14:29:31.889821Z",
     "shell.execute_reply.started": "2022-03-20T14:29:31.877959Z"
    }
   },
   "outputs": [
    {
     "data": {
      "text/plain": [
       "id                      0\n",
       "Gender                  0\n",
       "Age                     0\n",
       "Driving_License         0\n",
       "Region_Code             0\n",
       "Previously_Insured      0\n",
       "Vehicle_Age             0\n",
       "Vehicle_Damage          0\n",
       "Annual_Premium          0\n",
       "Policy_Sales_Channel    0\n",
       "Vintage                 0\n",
       "Response                0\n",
       "dtype: int64"
      ]
     },
     "execution_count": 22,
     "metadata": {},
     "output_type": "execute_result"
    }
   ],
   "source": [
    "\"\"\"\n",
    "Checking nans\n",
    "\"\"\"\n",
    "train.isna().sum()"
   ]
  },
  {
   "cell_type": "code",
   "execution_count": 23,
   "metadata": {
    "execution": {
     "iopub.execute_input": "2022-03-20T14:29:32.288634Z",
     "iopub.status.busy": "2022-03-20T14:29:32.288327Z",
     "iopub.status.idle": "2022-03-20T14:29:33.157596Z",
     "shell.execute_reply": "2022-03-20T14:29:33.156841Z",
     "shell.execute_reply.started": "2022-03-20T14:29:32.288599Z"
    }
   },
   "outputs": [
    {
     "data": {
      "text/plain": [
       "<AxesSubplot:>"
      ]
     },
     "execution_count": 23,
     "metadata": {},
     "output_type": "execute_result"
    },
    {
     "data": {
      "image/png": "[encoded data removed]",
      "text/plain": [
       "<Figure size 720x360 with 2 Axes>"
      ]
     },
     "metadata": {
      "needs_background": "light"
     },
     "output_type": "display_data"
    }
   ],
   "source": [
    "\"\"\"\n",
    "Show Data Correlation\n",
    "\"\"\"\n",
    "plt.figure(figsize = (10,5))\n",
    "corr = train.corr()\n",
    "matrix = np.triu(corr)\n",
    "sns.heatmap(corr , annot = True,fmt = '.2f', cmap = \"PiYG\" , mask = matrix)"
   ]
  },
  {
   "cell_type": "code",
   "execution_count": 27,
   "metadata": {
    "execution": {
     "iopub.execute_input": "2022-03-20T15:23:29.300672Z",
     "iopub.status.busy": "2022-03-20T15:23:29.300368Z",
     "iopub.status.idle": "2022-03-20T15:23:35.711145Z",
     "shell.execute_reply": "2022-03-20T15:23:35.710143Z",
     "shell.execute_reply.started": "2022-03-20T15:23:29.300636Z"
    }
   },
   "outputs": [
    {
     "name": "stdout",
     "output_type": "stream",
     "text": [
      "0    255764\n",
      "1     49959\n",
      "Name: Response, dtype: int64\n"
     ]
    }
   ],
   "source": [
    "\"\"\"\n",
    "Checking Data Balancing \n",
    "\"\"\"\n",
    "print(train.Response.value_counts())\n"
   ]
  },
  {
   "cell_type": "code",
   "execution_count": 25,
   "metadata": {
    "execution": {
     "iopub.execute_input": "2022-03-20T14:35:27.674272Z",
     "iopub.status.busy": "2022-03-20T14:35:27.674001Z",
     "iopub.status.idle": "2022-03-20T14:35:27.680361Z",
     "shell.execute_reply": "2022-03-20T14:35:27.679607Z",
     "shell.execute_reply.started": "2022-03-20T14:35:27.674242Z"
    }
   },
   "outputs": [
    {
     "name": "stdout",
     "output_type": "stream",
     "text": [
      "380337    1\n",
      "144076    1\n",
      "58750     1\n",
      "274532    1\n",
      "138499    1\n",
      "         ..\n",
      "505169    1\n",
      "36009     1\n",
      "418443    1\n",
      "366368    1\n",
      "109107    1\n",
      "Name: id, Length: 305723, dtype: int64\n",
      "0    164595\n",
      "1    141128\n",
      "Name: Gender, dtype: int64\n",
      "24    21103\n",
      "23    19498\n",
      "25    16794\n",
      "22    16584\n",
      "21    12644\n",
      "      ...  \n",
      "81       45\n",
      "82       28\n",
      "83       22\n",
      "84       11\n",
      "85       10\n",
      "Name: Age, Length: 66, dtype: int64\n",
      "1    305144\n",
      "0       579\n",
      "Name: Driving_License, dtype: int64\n",
      "28.0    85725\n",
      "8.0     27105\n",
      "46.0    16126\n",
      "41.0    15339\n",
      "15.0    10480\n",
      "30.0    10268\n",
      "29.0     9362\n",
      "50.0     8150\n",
      "3.0      7464\n",
      "11.0     7439\n",
      "36.0     6919\n",
      "33.0     6412\n",
      "47.0     5840\n",
      "35.0     5824\n",
      "6.0      5222\n",
      "45.0     4445\n",
      "18.0     4324\n",
      "37.0     4025\n",
      "14.0     3884\n",
      "39.0     3596\n",
      "10.0     3565\n",
      "21.0     3533\n",
      "48.0     3448\n",
      "13.0     3249\n",
      "2.0      2932\n",
      "7.0      2622\n",
      "12.0     2513\n",
      "9.0      2345\n",
      "32.0     2172\n",
      "43.0     2089\n",
      "27.0     2011\n",
      "17.0     1998\n",
      "25.0     1989\n",
      "26.0     1934\n",
      "24.0     1887\n",
      "38.0     1650\n",
      "23.0     1583\n",
      "16.0     1577\n",
      "4.0      1466\n",
      "0.0      1462\n",
      "31.0     1408\n",
      "20.0     1369\n",
      "49.0     1365\n",
      "34.0     1222\n",
      "19.0     1175\n",
      "22.0     1020\n",
      "5.0       993\n",
      "40.0      969\n",
      "1.0       757\n",
      "44.0      638\n",
      "42.0      466\n",
      "52.0      212\n",
      "51.0      155\n",
      "Name: Region_Code, dtype: int64\n",
      "0    155956\n",
      "1    149767\n",
      "Name: Previously_Insured, dtype: int64\n",
      "1    159977\n",
      "0    133237\n",
      "2     12509\n",
      "Name: Vehicle_Age, dtype: int64\n",
      "0    158891\n",
      "1    146832\n",
      "Name: Vehicle_Damage, dtype: int64\n",
      "2630.0     50284\n",
      "69856.0      104\n",
      "38452.0       37\n",
      "36086.0       35\n",
      "45179.0       33\n",
      "           ...  \n",
      "43290.0        1\n",
      "41427.0        1\n",
      "61894.0        1\n",
      "18179.0        1\n",
      "71521.0        1\n",
      "Name: Annual_Premium, Length: 46524, dtype: int64\n",
      "152.0    110068\n",
      "26.0      65519\n",
      "124.0     58463\n",
      "160.0     16858\n",
      "156.0      8087\n",
      "          ...  \n",
      "41.0          1\n",
      "141.0         1\n",
      "102.0         1\n",
      "50.0          1\n",
      "115.0         1\n",
      "Name: Policy_Sales_Channel, Length: 156, dtype: int64\n",
      "73     1143\n",
      "144    1142\n",
      "31     1141\n",
      "256    1133\n",
      "42     1131\n",
      "       ... \n",
      "97      978\n",
      "118     978\n",
      "32      976\n",
      "277     972\n",
      "224     961\n",
      "Name: Vintage, Length: 290, dtype: int64\n",
      "0    255764\n",
      "1     49959\n",
      "Name: Response, dtype: int64\n"
     ]
    }
   ],
   "source": [
    "\"\"\"\n",
    "Checking all columns values\n",
    "\"\"\"\n",
    "for col in train.columns:\n",
    "    print(train[col].value_counts())"
   ]
  },
  {
   "cell_type": "code",
   "execution_count": 28,
   "metadata": {
    "execution": {
     "iopub.execute_input": "2022-03-20T14:35:44.607560Z",
     "iopub.status.busy": "2022-03-20T14:35:44.606799Z",
     "iopub.status.idle": "2022-03-20T14:35:45.866943Z",
     "shell.execute_reply": "2022-03-20T14:35:45.866297Z",
     "shell.execute_reply.started": "2022-03-20T14:35:44.607513Z"
    }
   },
   "outputs": [
    {
     "name": "stderr",
     "output_type": "stream",
     "text": [
      "C:\\Users\\DELL\\anaconda3\\lib\\site-packages\\pandas\\util\\_decorators.py:311: SettingWithCopyWarning: \n",
      "A value is trying to be set on a copy of a slice from a DataFrame\n",
      "\n",
      "See the caveats in the documentation: https://pandas.pydata.org/pandas-docs/stable/user_guide/indexing.html#returning-a-view-versus-a-copy\n",
      "  return func(*args, **kwargs)\n"
     ]
    },
    {
     "data": {
      "image/png": "[encoded data removed]",
      "text/plain": [
       "<Figure size 1440x1296 with 1 Axes>"
      ]
     },
     "metadata": {
      "needs_background": "light"
     },
     "output_type": "display_data"
    }
   ],
   "source": [
    "'''\n",
    "Drawing bar plot for number of men have damaged their cars among regions\n",
    "'''\n",
    "df_t1 = train.loc[((train['Gender'] == 0) & (train['Vehicle_Damage'] == 1))]\n",
    "df_t1.dropna( subset = ['Region_Code'] , inplace = True)\n",
    "plt.figure(figsize = (20,18))\n",
    "regions_List = sorted(list(df_t1['Region_Code'].value_counts()), reverse= True)\n",
    "ax = sns.countplot( y = 'Region_Code', order = df_t1['Region_Code'].value_counts().index , data = df_t1, palette = [\"#fe9055\" , \"#fe766a\" , \"#eb717c\" , \"#fe5862\" , \"#a54780\" , \"#8d2865\" ,  \"#6b1e47\" , \"#3d033b\" , \"#1e0034\",\"#6b1e47\" ,\"#7b174a\"] )\n",
    "for p in ax.patches:\n",
    "        percentage = '{:.1f}'.format( p.get_width() )\n",
    "        x = p.get_x() + p.get_width() + 0.02\n",
    "        y = p.get_y() + p.get_height()/ 2\n",
    "        ax.annotate(percentage , (x, y))"
   ]
  },
  {
   "cell_type": "code",
   "execution_count": 29,
   "metadata": {
    "execution": {
     "iopub.execute_input": "2022-03-20T14:35:51.953034Z",
     "iopub.status.busy": "2022-03-20T14:35:51.952573Z",
     "iopub.status.idle": "2022-03-20T14:35:53.174490Z",
     "shell.execute_reply": "2022-03-20T14:35:53.173741Z",
     "shell.execute_reply.started": "2022-03-20T14:35:51.952987Z"
    }
   },
   "outputs": [
    {
     "name": "stderr",
     "output_type": "stream",
     "text": [
      "C:\\Users\\DELL\\anaconda3\\lib\\site-packages\\pandas\\util\\_decorators.py:311: SettingWithCopyWarning: \n",
      "A value is trying to be set on a copy of a slice from a DataFrame\n",
      "\n",
      "See the caveats in the documentation: https://pandas.pydata.org/pandas-docs/stable/user_guide/indexing.html#returning-a-view-versus-a-copy\n",
      "  return func(*args, **kwargs)\n"
     ]
    },
    {
     "data": {
      "image/png": "[encoded data removed]",
      "text/plain": [
       "<Figure size 1440x1296 with 1 Axes>"
      ]
     },
     "metadata": {
      "needs_background": "light"
     },
     "output_type": "display_data"
    }
   ],
   "source": [
    "'''\n",
    "Drawing bar plot for number of female have damaged their cars among regions\n",
    "'''\n",
    "df_t1 = train.loc[((train['Gender'] == 1) & (train['Vehicle_Damage'] == 1))]\n",
    "df_t1.dropna( subset = ['Region_Code'] , inplace = True)\n",
    "plt.figure(figsize = (20,18))\n",
    "regions_List = sorted(list(df_t1['Region_Code'].value_counts()), reverse= True)\n",
    "ax = sns.countplot( y = 'Region_Code', order = df_t1['Region_Code'].value_counts().index , data = df_t1, palette = [\"#fe9055\" , \"#fe766a\" , \"#eb717c\" , \"#fe5862\" , \"#a54780\" , \"#8d2865\" ,  \"#6b1e47\" , \"#3d033b\" , \"#1e0034\",\"#6b1e47\" ,\"#7b174a\"] )\n",
    "for p in ax.patches:\n",
    "        percentage = '{:.1f}'.format( p.get_width() )\n",
    "        x = p.get_x() + p.get_width() + 0.02\n",
    "        y = p.get_y() + p.get_height()/ 2\n",
    "        ax.annotate(percentage , (x, y))"
   ]
  },
  {
   "cell_type": "code",
   "execution_count": 30,
   "metadata": {
    "execution": {
     "iopub.execute_input": "2022-03-20T14:36:01.813676Z",
     "iopub.status.busy": "2022-03-20T14:36:01.813372Z",
     "iopub.status.idle": "2022-03-20T14:36:01.833300Z",
     "shell.execute_reply": "2022-03-20T14:36:01.832715Z",
     "shell.execute_reply.started": "2022-03-20T14:36:01.813647Z"
    }
   },
   "outputs": [
    {
     "data": {
      "text/html": [
       "<div>\n",
       "<style scoped>\n",
       "    .dataframe tbody tr th:only-of-type {\n",
       "        vertical-align: middle;\n",
       "    }\n",
       "\n",
       "    .dataframe tbody tr th {\n",
       "        vertical-align: top;\n",
       "    }\n",
       "\n",
       "    .dataframe thead th {\n",
       "        text-align: right;\n",
       "    }\n",
       "</style>\n",
       "<table border=\"1\" class=\"dataframe\">\n",
       "  <thead>\n",
       "    <tr style=\"text-align: right;\">\n",
       "      <th></th>\n",
       "      <th>Annual_Premium</th>\n",
       "    </tr>\n",
       "    <tr>\n",
       "      <th>Gender</th>\n",
       "      <th></th>\n",
       "    </tr>\n",
       "  </thead>\n",
       "  <tbody>\n",
       "    <tr>\n",
       "      <th>0</th>\n",
       "      <td>30750.771998</td>\n",
       "    </tr>\n",
       "    <tr>\n",
       "      <th>1</th>\n",
       "      <td>30638.600809</td>\n",
       "    </tr>\n",
       "  </tbody>\n",
       "</table>\n",
       "</div>"
      ],
      "text/plain": [
       "        Annual_Premium\n",
       "Gender                \n",
       "0         30750.771998\n",
       "1         30638.600809"
      ]
     },
     "execution_count": 30,
     "metadata": {},
     "output_type": "execute_result"
    }
   ],
   "source": [
    "\"\"\"\n",
    "Checking the average annual premium regarding gender\n",
    "\"\"\"\n",
    "train.groupby('Gender')[['Annual_Premium']].mean()"
   ]
  },
  {
   "cell_type": "markdown",
   "metadata": {},
   "source": [
    "## Modeling "
   ]
  },
  {
   "cell_type": "markdown",
   "metadata": {},
   "source": [
    "# GaussianNB"
   ]
  },
  {
   "cell_type": "code",
   "execution_count": 52,
   "metadata": {
    "execution": {
     "iopub.execute_input": "2022-03-20T14:38:05.326161Z",
     "iopub.status.busy": "2022-03-20T14:38:05.325146Z",
     "iopub.status.idle": "2022-03-20T14:38:05.501182Z",
     "shell.execute_reply": "2022-03-20T14:38:05.500276Z",
     "shell.execute_reply.started": "2022-03-20T14:38:05.326108Z"
    }
   },
   "outputs": [],
   "source": [
    "\"\"\"\n",
    "Fist Model, Random Sampling , naive bayes , without feature selection\n",
    "\"\"\"\n",
    "sample_0 = train[(train.Response == 0)].sample(49959 , random_state = 123 )#frac = 0.19541263169601242)\n",
    "sample_1 = train[(train.Response == 1)]\n",
    "balanced = pd.concat([sample_0 , sample_1])\n",
    "X, y = balanced.iloc[:,:-1] , balanced.Response\n",
    "X_train, X_test, y_train, y_test = train_test_split(X, y, test_size = 0.3, random_state = 0)\n",
    "gnb = GaussianNB()\n",
    "y_pred = gnb.fit(X_train, y_train).predict(X_test)\n",
    "test2 = test.copy()\n",
    "pred = gnb.predict(test2)\n",
    "test2['Response'] = pred\n",
    "#dir(gnb)\n",
    "print(classification_report(y_test, y_pred))\n",
    "print(confusion_matrix(y_test , y_pred))\n",
    "# sub = test2[['id','Response']]\n",
    "# sub.to_csv('sub1.csv' , index = False)"
   ]
  },
  {
   "cell_type": "code",
   "execution_count": 32,
   "metadata": {
    "execution": {
     "iopub.execute_input": "2022-03-20T16:51:44.119785Z",
     "iopub.status.busy": "2022-03-20T16:51:44.119482Z",
     "iopub.status.idle": "2022-03-20T16:51:44.249603Z",
     "shell.execute_reply": "2022-03-20T16:51:44.248781Z",
     "shell.execute_reply.started": "2022-03-20T16:51:44.119752Z"
    }
   },
   "outputs": [
    {
     "name": "stdout",
     "output_type": "stream",
     "text": [
      "              precision    recall  f1-score   support\n",
      "\n",
      "           0       0.98      0.64      0.77     14996\n",
      "           1       0.73      0.98      0.84     14980\n",
      "\n",
      "    accuracy                           0.81     29976\n",
      "   macro avg       0.85      0.81      0.81     29976\n",
      "weighted avg       0.85      0.81      0.81     29976\n",
      "\n",
      "[[ 9630  5366]\n",
      " [  237 14743]]\n"
     ]
    }
   ],
   "source": [
    "dftrain = train[['Previously_Insured','Vehicle_Age','Vehicle_Damage','Response']]\n",
    "\n",
    "sample_0 = dftrain[(dftrain.Response == 0)].sample(49959 , random_state = 123 )#frac = 0.19541263169601242)\n",
    "sample_1 = dftrain[(dftrain.Response == 1)]\n",
    "balanced = pd.concat([sample_0 , sample_1])\n",
    "X, y = balanced[['Previously_Insured','Vehicle_Age','Vehicle_Damage']] , balanced.Response\n",
    "X_train, X_test, y_train, y_test = train_test_split(X, y, test_size = 0.3, random_state = 0)\n",
    "gnb = GaussianNB()\n",
    "y_pred = gnb.fit(X_train, y_train).predict(X_test)\n",
    "test2 = test[['Previously_Insured','Vehicle_Age','Vehicle_Damage']].copy()\n",
    "pred = gnb.predict(test2)\n",
    "test2['Response'] = pred\n",
    "#dir(gnb)\n",
    "print(classification_report(y_test, y_pred))\n",
    "print(confusion_matrix(y_test , y_pred))"
   ]
  },
  {
   "cell_type": "code",
   "execution_count": 151,
   "metadata": {
    "execution": {
     "iopub.execute_input": "2022-03-20T17:07:56.959958Z",
     "iopub.status.busy": "2022-03-20T17:07:56.959060Z",
     "iopub.status.idle": "2022-03-20T17:30:05.989922Z",
     "shell.execute_reply": "2022-03-20T17:30:05.988490Z",
     "shell.execute_reply.started": "2022-03-20T17:07:56.959911Z"
    }
   },
   "outputs": [],
   "source": [
    "from imblearn.combine import SMOTETomek, SMOTEENN\n",
    "dftrain = train[['Previously_Insured','Vehicle_Damage','Response']]\n",
    "X, y = dftrain[['Previously_Insured','Vehicle_Damage']] , dftrain.Response\n",
    "smote = SMOTEENN(random_state = 0)\n",
    "smote.fit(X, y)\n",
    "X, y = smote.fit_resample(X, y)\n",
    "X_train, X_test, y_train, y_test = train_test_split(X, y, test_size = 0.3, random_state = 42)\n",
    "gnb = GaussianNB()\n",
    "y_pred = gnb.fit(X_train, y_train).predict(X_test)\n",
    "test2 = test[['Previously_Insured','Vehicle_Damage']].copy()\n",
    "pred = gnb.predict(test2)\n",
    "test2['Response'] = pred\n",
    "#dir(gnb)\n",
    "print(classification_report(y_test, y_pred))\n",
    "print(confusion_matrix(y_test , y_pred))"
   ]
  },
  {
   "cell_type": "code",
   "execution_count": 147,
   "metadata": {
    "execution": {
     "iopub.execute_input": "2022-03-20T16:58:38.900489Z",
     "iopub.status.busy": "2022-03-20T16:58:38.900158Z",
     "iopub.status.idle": "2022-03-20T16:58:39.038053Z",
     "shell.execute_reply": "2022-03-20T16:58:39.037116Z",
     "shell.execute_reply.started": "2022-03-20T16:58:38.900453Z"
    }
   },
   "outputs": [],
   "source": [
    "dftrain = train[['Previously_Insured','Vehicle_Age','Vehicle_Damage','Response','Age','Gender']]\n",
    "\n",
    "sample_0 = dftrain[(dftrain.Response == 0)].sample(49959 , random_state = 44 )#frac = 0.19541263169601242)\n",
    "sample_1 = dftrain[(dftrain.Response == 1)]\n",
    "balanced = pd.concat([sample_0 , sample_1])\n",
    "X, y = balanced[['Previously_Insured','Vehicle_Age','Vehicle_Damage','Age','Gender']] , balanced.Response\n",
    "X_train, X_test, y_train, y_test = train_test_split(X, y, test_size = 0.3, random_state = 42)\n",
    "gnb = GaussianNB()\n",
    "y_pred = gnb.fit(X_train, y_train).predict(X_test)\n",
    "test2 = test[['Previously_Insured','Vehicle_Age','Vehicle_Damage','Age','Gender']].copy()\n",
    "pred = gnb.predict(test2)\n",
    "test2['Response'] = pred\n",
    "#dir(gnb)\n",
    "print(classification_report(y_test, y_pred))\n",
    "print(confusion_matrix(y_test , y_pred))"
   ]
  },
  {
   "cell_type": "markdown",
   "metadata": {},
   "source": [
    "# SVM"
   ]
  },
  {
   "cell_type": "code",
   "execution_count": 138,
   "metadata": {
    "execution": {
     "iopub.execute_input": "2022-03-20T16:53:16.522925Z",
     "iopub.status.busy": "2022-03-20T16:53:16.522205Z",
     "iopub.status.idle": "2022-03-20T16:56:43.897045Z",
     "shell.execute_reply": "2022-03-20T16:56:43.895805Z",
     "shell.execute_reply.started": "2022-03-20T16:53:16.522885Z"
    }
   },
   "outputs": [],
   "source": [
    "dftrain = train[['Previously_Insured','Vehicle_Age','Vehicle_Damage','Response']]\n",
    "\n",
    "sample_0 = dftrain[(dftrain.Response == 0)].sample(49959 , random_state = 123 )#frac = 0.19541263169601242)\n",
    "sample_1 = dftrain[(dftrain.Response == 1)]\n",
    "balanced = pd.concat([sample_0 , sample_1])\n",
    "X, y = balanced[['Previously_Insured','Vehicle_Age','Vehicle_Damage']] , balanced.Response\n",
    "X_train, X_test, y_train, y_test = train_test_split(X, y, test_size = 0.3, random_state = 0)\n",
    "gnb = svm.SVC()\n",
    "y_pred = gnb.fit(X_train, y_train).predict(X_test)\n",
    "test2 = test[['Previously_Insured','Vehicle_Age','Vehicle_Damage']].copy()\n",
    "pred = gnb.predict(test2)\n",
    "test2['Response'] = pred\n",
    "#dir(gnb)\n",
    "print(classification_report(y_test, y_pred))\n",
    "print(confusion_matrix(y_test , y_pred))"
   ]
  },
  {
   "cell_type": "code",
   "execution_count": 164,
   "metadata": {
    "execution": {
     "iopub.execute_input": "2022-03-20T18:21:00.855037Z",
     "iopub.status.busy": "2022-03-20T18:21:00.854440Z",
     "iopub.status.idle": "2022-03-20T20:01:23.453660Z",
     "shell.execute_reply": "2022-03-20T20:01:23.451511Z",
     "shell.execute_reply.started": "2022-03-20T18:21:00.854999Z"
    }
   },
   "outputs": [],
   "source": [
    "\"\"\"\n",
    "Second Model,SVC evaluated on imbalanced dataset with SMOTE oversampling\n",
    "\"\"\"\n",
    "X, y = train.iloc[:,:-1] , train.Response\n",
    "X_train, X_test, y_train, y_test = train_test_split(X, y, test_size = 0.3, random_state = 0)\n",
    "k_values = [1, 2, 3, 4]\n",
    "#for k in k_values:\n",
    "        # define pipeline\n",
    "model = svm.SVC()\n",
    "over = SMOTE(sampling_strategy = 0.3, k_neighbors = 3)\n",
    "under = RandomUnderSampler(sampling_strategy = 0.5)\n",
    "steps = [('over', over), ('under', under),('model', model)]# \n",
    "pipeline = Pipeline(steps=steps)\n",
    "# evaluate pipeline\n",
    "cv = RepeatedStratifiedKFold(n_splits = 10, n_repeats = 3, random_state = 1)\n",
    "scores = cross_val_score(pipeline, X, y, scoring = 'roc_auc', cv = cv, n_jobs = -1 , error_score='raise')\n",
    "score = mean(scores)\n",
    "print('> k=%d, Mean ROC AUC: %.3f' % (k, score))\n",
    "x_train_res, y_train_res = over.fit_resample(X_train, y_train)\n",
    "y_pred = model.fit(x_train_res, y_train_res).predict(X_test)\n",
    "test2 = test.copy()\n",
    "pred = model.predict(test2)\n",
    "test2['Response'] = pred\n",
    "print(classification_report(y_test, y_pred))\n",
    "print(confusion_matrix(y_test , y_pred))\n",
    "sub = test2[['id','Response']]\n",
    "sub.to_csv('sub2.csv' , index = False)"
   ]
  },
  {
   "cell_type": "code",
   "execution_count": 126,
   "metadata": {
    "execution": {
     "iopub.execute_input": "2022-03-20T16:05:33.802783Z",
     "iopub.status.busy": "2022-03-20T16:05:33.802347Z",
     "iopub.status.idle": "2022-03-20T16:34:20.545685Z",
     "shell.execute_reply": "2022-03-20T16:34:20.544702Z",
     "shell.execute_reply.started": "2022-03-20T16:05:33.802749Z"
    }
   },
   "outputs": [],
   "source": [
    "\"\"\"\n",
    "SVC Model, SVC evaluated on imbalanced dataset with SMOTE oversampling\n",
    "\"\"\"\n",
    "parameters = {'C': [1,10,100], 'kernel': ['linear' , 'rbf' , 'poly'],\n",
    "          'gamma': [0.001, 0.01] }\n",
    "X, y = train.iloc[:,:-1] , train.Response\n",
    "k_values = [2, 3]\n",
    "for k in k_values:\n",
    "        # define pipeline\n",
    "        model = svm.SVC()\n",
    "        over = SMOTE(sampling_strategy = 0.3, k_neighbors = k)\n",
    "        #under = RandomUnderSampler(sampling_strategy = 0.5)\n",
    "        steps = [('over', over),  ('model', model)]\n",
    "        pipeline = Pipeline(steps=steps)\n",
    "        # evaluate pipeline\n",
    "        cv = RepeatedStratifiedKFold(n_splits = 5, n_repeats = 1, random_state = 1)\n",
    "        scores = cross_val_score(pipeline, X, y, scoring = 'roc_auc', cv = cv, n_jobs = -1 , error_score = 'raise')\n",
    "        score = mean(scores)\n",
    "        print('> k=%d, Mean ROC AUC: %.3f' % (k, score))\n",
    "        grid = GridSearchCV(estimator = model, param_grid = parameters , scoring = 'f1')   \n",
    "        x_train_res, y_train_res = over.fit_resample(X_train, y_train)\n",
    "clf =  grid.fit(x_train_res, y_train_res)\n",
    "y_pred =  clf.predict(X_test)\n",
    "test2 = test.copy()\n",
    "pred = model.predict(test2)\n",
    "test2['Response'] = pred\n",
    "print(classification_report(y_test, y_pred))\n",
    "print(confusion_matrix(y_test , y_pred))\n",
    "sub = test2[['id','Response']]\n",
    "sub.to_csv('sub3.csv' , index = False)"
   ]
  },
  {
   "cell_type": "markdown",
   "metadata": {},
   "source": [
    "## DecisionTreeClassifier"
   ]
  },
  {
   "cell_type": "code",
   "execution_count": 152,
   "metadata": {
    "execution": {
     "iopub.execute_input": "2022-03-20T17:30:15.795421Z",
     "iopub.status.busy": "2022-03-20T17:30:15.794597Z",
     "iopub.status.idle": "2022-03-20T17:33:33.617639Z",
     "shell.execute_reply": "2022-03-20T17:33:33.616055Z",
     "shell.execute_reply.started": "2022-03-20T17:30:15.795381Z"
    }
   },
   "outputs": [],
   "source": [
    "\"\"\"\n",
    "Second Model, decision tree evaluated on imbalanced dataset with SMOTE oversampling\n",
    "\"\"\"\n",
    "X, y = train.iloc[:,:-1] , train.Response\n",
    "X_train, X_test, y_train, y_test = train_test_split(X, y, test_size = 0.3, random_state = 0)\n",
    "k_values = [1, 2, 3, 4, 5, 6, 7]\n",
    "for k in k_values:\n",
    "        # define pipeline\n",
    "        model = DecisionTreeClassifier()\n",
    "        over = SMOTE(sampling_strategy = 0.3, k_neighbors = k)\n",
    "        under = RandomUnderSampler(sampling_strategy = 0.5)\n",
    "        steps = [('over', over), ('under', under),('model', model)]# \n",
    "        pipeline = Pipeline(steps=steps)\n",
    "        # evaluate pipeline\n",
    "        cv = RepeatedStratifiedKFold(n_splits = 10, n_repeats = 3, random_state = 1)\n",
    "        scores = cross_val_score(pipeline, X, y, scoring = 'roc_auc', cv = cv, n_jobs = -1 , error_score='raise')\n",
    "        score = mean(scores)\n",
    "        print('> k=%d, Mean ROC AUC: %.3f' % (k, score))\n",
    "        x_train_res, y_train_res = over.fit_resample(X_train, y_train)\n",
    "y_pred = model.fit(x_train_res, y_train_res).predict(X_test)\n",
    "test2 = test.copy()\n",
    "pred = model.predict(test2)\n",
    "test2['Response'] = pred\n",
    "print(classification_report(y_test, y_pred))\n",
    "print(confusion_matrix(y_test , y_pred))\n",
    "sub = test2[['id','Response']]\n",
    "sub.to_csv('sub2.csv' , index = False)"
   ]
  },
  {
   "cell_type": "code",
   "execution_count": 153,
   "metadata": {
    "execution": {
     "iopub.execute_input": "2022-03-20T17:49:06.479594Z",
     "iopub.status.busy": "2022-03-20T17:49:06.478896Z",
     "iopub.status.idle": "2022-03-20T17:51:11.231093Z",
     "shell.execute_reply": "2022-03-20T17:51:11.230003Z",
     "shell.execute_reply.started": "2022-03-20T17:49:06.479506Z"
    }
   },
   "outputs": [],
   "source": [
    "\"\"\"\n",
    "Second Model, decision tree evaluated on imbalanced dataset with SMOTE oversampling\n",
    "\"\"\"\n",
    "X, y = train.iloc[:,:-1] , train.Response\n",
    "X_train, X_test, y_train, y_test = train_test_split(X, y, test_size = 0.3, random_state = 0)\n",
    "k_values = [1, 2, 3, 4, 5, 6, 7]\n",
    "for k in k_values:\n",
    "        # define pipeline\n",
    "        model = DecisionTreeClassifier(max_depth = 5,criterion = 'entropy' )\n",
    "        over = SMOTE(sampling_strategy = 0.3, k_neighbors = k)\n",
    "        under = RandomUnderSampler(sampling_strategy = 0.5)\n",
    "        steps = [('over', over), ('under', under),('model', model)]# \n",
    "        pipeline = Pipeline(steps=steps)\n",
    "        # evaluate pipeline\n",
    "        cv = RepeatedStratifiedKFold(n_splits = 10, n_repeats = 3, random_state = 1)\n",
    "        scores = cross_val_score(pipeline, X, y, scoring = 'roc_auc', cv = cv, n_jobs = -1 , error_score='raise')\n",
    "        score = mean(scores)\n",
    "        print('> k=%d, Mean ROC AUC: %.3f' % (k, score))\n",
    "        x_train_res, y_train_res = over.fit_resample(X_train, y_train)\n",
    "y_pred = model.fit(x_train_res, y_train_res).predict(X_test)\n",
    "test2 = test.copy()\n",
    "pred = model.predict(test2)\n",
    "test2['Response'] = pred\n",
    "print(classification_report(y_test, y_pred))\n",
    "print(confusion_matrix(y_test , y_pred))\n",
    "sub = test2[['id','Response']]\n",
    "sub.to_csv('sub2.csv' , index = False)"
   ]
  },
  {
   "cell_type": "code",
   "execution_count": 158,
   "metadata": {
    "execution": {
     "iopub.execute_input": "2022-03-20T17:56:14.164762Z",
     "iopub.status.busy": "2022-03-20T17:56:14.164214Z",
     "iopub.status.idle": "2022-03-20T17:58:22.929471Z",
     "shell.execute_reply": "2022-03-20T17:58:22.928542Z",
     "shell.execute_reply.started": "2022-03-20T17:56:14.164727Z"
    }
   },
   "outputs": [],
   "source": [
    "\"\"\"\n",
    "3rd Model, decision tree evaluated on imbalanced dataset with SMOTE oversampling\n",
    "\"\"\"\n",
    "X, y = train.iloc[:,:-1] , train.Response\n",
    "X_train, X_test, y_train, y_test = train_test_split(X, y, test_size = 0.3, random_state = 0)\n",
    "k_values = [1, 2, 3, 4, 5, 6, 7]\n",
    "for k in k_values:\n",
    "        # define pipeline\n",
    "        model = DecisionTreeClassifier(max_depth = 6,criterion = 'entropy' )\n",
    "        over = SMOTE(sampling_strategy = 0.3, k_neighbors = k)\n",
    "        under = RandomUnderSampler(sampling_strategy = 0.5)\n",
    "        steps = [('over', over), ('under', under),('model', model)]# \n",
    "        pipeline = Pipeline(steps=steps)\n",
    "        # evaluate pipeline\n",
    "        cv = RepeatedStratifiedKFold(n_splits = 10, n_repeats = 3, random_state = 1)\n",
    "        scores = cross_val_score(pipeline, X, y, scoring = 'roc_auc', cv = cv, n_jobs = -1 , error_score='raise')\n",
    "        score = mean(scores)\n",
    "        print('> k=%d, Mean ROC AUC: %.3f' % (k, score))\n",
    "        x_train_res, y_train_res = over.fit_resample(X_train, y_train)\n",
    "y_pred = model.fit(x_train_res, y_train_res).predict(X_test)\n",
    "test2 = test.copy()\n",
    "pred = model.predict(test2)\n",
    "test2['Response'] = pred\n",
    "print(classification_report(y_test, y_pred))\n",
    "print(confusion_matrix(y_test , y_pred))\n",
    "sub = test2[['id','Response']]\n",
    "sub.to_csv('sub2.csv' , index = False)"
   ]
  },
  {
   "cell_type": "code",
   "execution_count": 156,
   "metadata": {
    "execution": {
     "iopub.execute_input": "2022-03-20T17:51:45.543016Z",
     "iopub.status.busy": "2022-03-20T17:51:45.542728Z",
     "iopub.status.idle": "2022-03-20T17:51:45.681022Z",
     "shell.execute_reply": "2022-03-20T17:51:45.680259Z",
     "shell.execute_reply.started": "2022-03-20T17:51:45.542987Z"
    }
   },
   "outputs": [],
   "source": [
    "# sub.to_csv('sub3.csv' , index = False)"
   ]
  }
 ],
 "metadata": {
  "kernelspec": {
   "display_name": "Python 3 (ipykernel)",
   "language": "python",
   "name": "python3"
  },
  "language_info": {
   "codemirror_mode": {
    "name": "ipython",
    "version": 3
   },
   "file_extension": ".py",
   "mimetype": "text/x-python",
   "name": "python",
   "nbconvert_exporter": "python",
   "pygments_lexer": "ipython3",
   "version": "3.8.12"
  }
 },
 "nbformat": 4,
 "nbformat_minor": 4
}
